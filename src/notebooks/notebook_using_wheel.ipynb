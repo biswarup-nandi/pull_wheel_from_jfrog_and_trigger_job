{
 "cells": [
  {
   "cell_type": "code",
   "execution_count": null,
   "metadata": {},
   "outputs": [],
   "source": [
    "%run /Workspace/Users/biswarup.nandi@outlook.com/DBX_CLI_AUTOMATION/bootstrap_script"
   ]
  },
  {
   "cell_type": "code",
   "execution_count": null,
   "metadata": {
    "application/vnd.databricks.v1+cell": {
     "cellMetadata": {},
     "inputWidgets": {},
     "nuid": "7f12b5ed-3bab-44e9-9dae-bad42f3eae58",
     "showTitle": false,
     "title": ""
    }
   },
   "outputs": [],
   "source": [
    "import os\n",
    "from dbx_api_project import main\n",
    "\n",
    "DATABRICKS_ACCOUNT_ID = os.getenv('DATABRICKS_ACCOUNT_ID');\n",
    "DATABRICKS_CLIENT_ID = os.getenv('DATABRICKS_CLIENT_ID')\n",
    "DATABRICKS_CLIENT_SECRET = os.getenv('DATABRICKS_CLIENT_SECRET')\n",
    "DATABRICKS_REGION = os.getenv('DATABRICKS_REGION', 'us-east-1')\n",
    "\n",
    "# Validate required environment variables\n",
    "required_vars = {\n",
    "    'DATABRICKS_ACCOUNT_ID': DATABRICKS_ACCOUNT_ID,\n",
    "    'DATABRICKS_CLIENT_ID': DATABRICKS_CLIENT_ID,\n",
    "    'DATABRICKS_CLIENT_SECRET': DATABRICKS_CLIENT_SECRET\n",
    "}\n",
    "for var, value in required_vars.items():\n",
    "    if not value:\n",
    "        raise EnvironmentError(f\"Environment variable {var} is not set\")\n",
    "\n"
   ]
  },
  {
   "cell_type": "code",
   "execution_count": null,
   "metadata": {},
   "outputs": [],
   "source": [
    "main.printMetaStoreId(DATABRICKS_ACCOUNT_ID, DATABRICKS_CLIENT_ID, DATABRICKS_CLIENT_SECRET, DATABRICKS_REGION)"
   ]
  }
 ],
 "metadata": {
  "application/vnd.databricks.v1+notebook": {
   "dashboards": [],
   "language": "python",
   "notebookMetadata": {
    "mostRecentlyExecutedCommandWithImplicitDF": {
     "commandId": 4302294663328765,
     "dataframes": [
      "_sqldf"
     ]
    },
    "pythonIndentUnit": 4
   },
   "notebookName": "notebook_using_wheel",
   "widgets": {}
  },
  "language_info": {
   "name": "python"
  }
 },
 "nbformat": 4,
 "nbformat_minor": 0
}
